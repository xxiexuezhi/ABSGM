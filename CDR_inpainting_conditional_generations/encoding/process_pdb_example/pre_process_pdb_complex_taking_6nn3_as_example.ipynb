{
 "cells": [
  {
   "cell_type": "code",
   "execution_count": 1,
   "id": "cdb3e4d8",
   "metadata": {},
   "outputs": [],
   "source": [
    "##this fuction is to remove the mutiple H L chains into only one set of H L chains.\n",
    "\n",
    "        \n",
    "def get_chain_id_lst(name):\n",
    "    with open(name) as f:\n",
    "        lines = f.readlines()\n",
    "        line4 = lines[3].strip()\n",
    "        pairs = line4.split(\"PAIRED_HL \")[1:]\n",
    "        chain_ids = []\n",
    "        for pair in pairs:\n",
    "            chains = pair.split(\" \")\n",
    "            chain_ids.extend([c.split(\"=\")[1] for c in chains if \"CHAIN\" in c])\n",
    "        return chain_ids\n",
    "\n",
    "from Bio import PDB\n",
    "\n",
    "    \n",
    "from Bio.PDB import PDBParser, PDBIO\n",
    "\n",
    "def cut_pdb_with_chain_id_lst(pdb_file,chain_id_lst):\n",
    "    # PDB file name and the chain id and positions to be cut\n",
    "    pdb_filename = pdb_file\n",
    "    #pdb_id = \"A\"\n",
    "\n",
    "\n",
    "    with open(pdb_filename, 'r') as f:\n",
    "        pdb_lines = f.readlines()\n",
    "    filtered_lines = []\n",
    "    for line in pdb_lines:\n",
    "        if line.startswith('ATOM') and line[21] in chain_id_lst:\n",
    "            filtered_lines.append(line)\n",
    "\n",
    "    # Write the filtered lines to a new PDB file\n",
    "    with open(\"cut_\"+pdb_file, 'w') as f:\n",
    "        f.write(''.join(filtered_lines))"
   ]
  },
  {
   "cell_type": "code",
   "execution_count": 2,
   "id": "89805bb2",
   "metadata": {},
   "outputs": [],
   "source": [
    "chainid_lst = get_chain_id_lst(\"6nn3.pdb\")"
   ]
  },
  {
   "cell_type": "code",
   "execution_count": 3,
   "id": "f71a93b0",
   "metadata": {},
   "outputs": [
    {
     "data": {
      "text/plain": [
       "['H', 'L', 'A']"
      ]
     },
     "execution_count": 3,
     "metadata": {},
     "output_type": "execute_result"
    }
   ],
   "source": [
    "chainid_lst"
   ]
  },
  {
   "cell_type": "code",
   "execution_count": 4,
   "id": "df02609f",
   "metadata": {},
   "outputs": [],
   "source": [
    "cut_pdb_with_chain_id_lst(\"6nn3.pdb\",chainid_lst)"
   ]
  },
  {
   "cell_type": "code",
   "execution_count": 5,
   "id": "6407f4a1",
   "metadata": {},
   "outputs": [],
   "source": [
    "# copy paste rename odb files\n",
    "\n",
    "import subprocess\n",
    "\n",
    "def cp_pdb(pre,after):\n",
    "    subprocess.call([\"cp\", pre, after])\n",
    "\n",
    "from Bio.PDB import PDBParser, PDBIO\n",
    "\n",
    "# Parse the PDB file\n",
    "def split_by_chainid(pdb_file):\n",
    "    name = pdb_file.split(\".\")[0]\n",
    "    parser = PDBParser()\n",
    "    structure = parser.get_structure(name, pdb_file)\n",
    "\n",
    "    # Split the structure by chain and save each chain as a separate PDB file\n",
    "    for chain in structure.get_chains():\n",
    "        chain_id = chain.get_id()\n",
    "        io = PDBIO()\n",
    "        io.set_structure(chain)\n",
    "        pdb_id = str(structure.id).split(\".\")[0][-4:]\n",
    "        io.save(f\"{pdb_id}_{chain_id}_cut.pdb\")\n",
    "    \n",
    "\n",
    "\n",
    "\n"
   ]
  },
  {
   "cell_type": "code",
   "execution_count": 7,
   "id": "5d5ac448",
   "metadata": {},
   "outputs": [],
   "source": [
    "split_by_chainid(\"cut_6nn3.pdb\")"
   ]
  },
  {
   "cell_type": "code",
   "execution_count": 6,
   "id": "7728f5eb",
   "metadata": {},
   "outputs": [
    {
     "ename": "FileNotFoundError",
     "evalue": "[Errno 2] No such file or directory: '6nn3_H_cut.pdb'",
     "output_type": "error",
     "traceback": [
      "\u001b[0;31m---------------------------------------------------------------------------\u001b[0m",
      "\u001b[0;31mFileNotFoundError\u001b[0m                         Traceback (most recent call last)",
      "Input \u001b[0;32mIn [6]\u001b[0m, in \u001b[0;36m<cell line: 28>\u001b[0;34m()\u001b[0m\n\u001b[1;32m     22\u001b[0m         \u001b[38;5;28;01mreturn\u001b[39;00m \u001b[38;5;28mint\u001b[39m(pairs[\u001b[38;5;241m-\u001b[39m\u001b[38;5;241m1\u001b[39m])\n\u001b[1;32m     24\u001b[0m p\u001b[38;5;241m=\u001b[39m\u001b[38;5;124m\"\u001b[39m\u001b[38;5;124m6nn3_H_cut.pdb\u001b[39m\u001b[38;5;124m\"\u001b[39m\n\u001b[0;32m---> 28\u001b[0m \u001b[38;5;28mprint\u001b[39m(\u001b[43mget_start_index_by_chainid\u001b[49m\u001b[43m(\u001b[49m\u001b[43mp\u001b[49m\u001b[43m,\u001b[49m\u001b[38;5;124;43m\"\u001b[39;49m\u001b[38;5;124;43mH\u001b[39;49m\u001b[38;5;124;43m\"\u001b[39;49m\u001b[43m)\u001b[49m ,get_last_residue_num(p))\n",
      "Input \u001b[0;32mIn [6]\u001b[0m, in \u001b[0;36mget_start_index_by_chainid\u001b[0;34m(pdb_name, chain_id)\u001b[0m\n\u001b[1;32m      3\u001b[0m \u001b[38;5;28;01mdef\u001b[39;00m \u001b[38;5;21mget_start_index_by_chainid\u001b[39m(pdb_name,chain_id):\n\u001b[1;32m      4\u001b[0m \n\u001b[1;32m      5\u001b[0m     \u001b[38;5;66;03m# PDB file name and the chain id and positions to be cut\u001b[39;00m\n\u001b[1;32m      6\u001b[0m     pdb_filename \u001b[38;5;241m=\u001b[39m pdb_name\n\u001b[0;32m----> 7\u001b[0m     \u001b[38;5;28;01mwith\u001b[39;00m \u001b[38;5;28;43mopen\u001b[39;49m\u001b[43m(\u001b[49m\u001b[43mpdb_filename\u001b[49m\u001b[43m,\u001b[49m\u001b[43m \u001b[49m\u001b[38;5;124;43m'\u001b[39;49m\u001b[38;5;124;43mr\u001b[39;49m\u001b[38;5;124;43m'\u001b[39;49m\u001b[43m)\u001b[49m \u001b[38;5;28;01mas\u001b[39;00m f:\n\u001b[1;32m      8\u001b[0m         pdb_lines \u001b[38;5;241m=\u001b[39m f\u001b[38;5;241m.\u001b[39mreadlines()\n\u001b[1;32m      9\u001b[0m     filtered_lines \u001b[38;5;241m=\u001b[39m []\n",
      "\u001b[0;31mFileNotFoundError\u001b[0m: [Errno 2] No such file or directory: '6nn3_H_cut.pdb'"
     ]
    }
   ],
   "source": [
    "from Bio.PDB import PDBParser, PDBIO\n",
    "\n",
    "def get_start_index_by_chainid(pdb_name,chain_id):\n",
    "\n",
    "    # PDB file name and the chain id and positions to be cut\n",
    "    pdb_filename = pdb_name\n",
    "    with open(pdb_filename, 'r') as f:\n",
    "        pdb_lines = f.readlines()\n",
    "    filtered_lines = []\n",
    "    for line in pdb_lines:\n",
    "        if line.startswith('ATOM') and line[21] == chain_id:\n",
    "            residue_number = int(line[22:26])\n",
    "            return residue_number\n",
    "    return 0\n",
    "\n",
    "\n",
    "def get_last_residue_num(name):\n",
    "    with open(name) as f:\n",
    "        lines = f.readlines()\n",
    "        line4 = lines[-2].strip()\n",
    "        pairs = line4.split()\n",
    "        return int(pairs[-1])\n",
    "\n",
    "p=\"6nn3_H_cut.pdb\"\n",
    "\n",
    "\n",
    "\n",
    "print(get_start_index_by_chainid(p,\"H\") ,get_last_residue_num(p))"
   ]
  },
  {
   "cell_type": "code",
   "execution_count": null,
   "id": "3054557b",
   "metadata": {},
   "outputs": [],
   "source": [
    "len(get_seq(p))"
   ]
  },
  {
   "cell_type": "code",
   "execution_count": null,
   "id": "e86896a8",
   "metadata": {},
   "outputs": [],
   "source": [
    "start_num= get_start_index_by_chainid(p,\"H\")\n",
    "end_num = get_last_residue_num(p)"
   ]
  },
  {
   "cell_type": "code",
   "execution_count": null,
   "id": "4b15d368",
   "metadata": {},
   "outputs": [],
   "source": [
    "#len_aa = \n",
    "\n",
    "cp_pdb(\"6nn3_H_cut.pdb\",\"heavy/6nn3_\"+chainid_lst[0]+\"_\"+str(start_num)+\"_\"+str(end_num)+\"_VH.pdb\")\n"
   ]
  },
  {
   "cell_type": "code",
   "execution_count": null,
   "id": "72c2351c",
   "metadata": {},
   "outputs": [],
   "source": []
  }
 ],
 "metadata": {
  "kernelspec": {
   "display_name": "Python 3 (ipykernel)",
   "language": "python",
   "name": "python3"
  },
  "language_info": {
   "codemirror_mode": {
    "name": "ipython",
    "version": 3
   },
   "file_extension": ".py",
   "mimetype": "text/x-python",
   "name": "python",
   "nbconvert_exporter": "python",
   "pygments_lexer": "ipython3",
   "version": "3.10.5"
  }
 },
 "nbformat": 4,
 "nbformat_minor": 5
}
